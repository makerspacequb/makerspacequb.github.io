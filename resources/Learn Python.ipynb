{
 "cells": [
  {
   "cell_type": "code",
   "execution_count": 4,
   "metadata": {},
   "outputs": [
    {
     "data": {
      "text/markdown": [
       "<span style='color:#32CD32'>**Correct**</span>"
      ],
      "text/plain": [
       "<IPython.core.display.Markdown object>"
      ]
     },
     "metadata": {},
     "output_type": "display_data"
    },
    {
     "data": {
      "text/markdown": [
       "<span style='color:red'>None</span>"
      ],
      "text/plain": [
       "<IPython.core.display.Markdown object>"
      ]
     },
     "metadata": {},
     "output_type": "display_data"
    }
   ],
   "source": [
    "#marker\n",
    "from IPython.display import Markdown, display\n",
    "from notebook.services.config import ConfigManager\n",
    "import urllib\n",
    "from pathlib import Path\n",
    "import sys\n",
    "import re\n",
    "\n",
    "#this downloads the extension straight to you nbextensions folder\n",
    "home = str(Path.home())\n",
    "urllib.request.urlretrieve('https://makerspacequb.github.io/resources/marker.js', home+'\\\\.ipython\\\\nbextensions\\\\marker.js')\n",
    "urllib.request.urlretrieve('https://makerspacequb.github.io/resources/pythonMarker.py','pythonMarker.py')\n",
    "\n",
    "#This enabled the extension\n",
    "ip = get_ipython()\n",
    "cm = ConfigManager(parent=ip, profile_dir=ip.profile_dir.location)\n",
    "cm.update('notebook', {\"load_extensions\": {\"marker\": True}})\n",
    "\n",
    "#This method is used to print the colored text prints\n",
    "def printmd(string, color=None):\n",
    "    colorstr = \"<span style='color:{}'>{}</span>\".format(color, string)\n",
    "    display(Markdown(colorstr))\n",
    "\n",
    "#This method is using in capturing output to text file\n",
    "class Tee(object):\n",
    "    def __init__(self, *files):\n",
    "        self.files = files\n",
    "    def write(self, obj):\n",
    "        for f in self.files:\n",
    "            f.write(obj)\n",
    "            f.flush()\n",
    "    def flush(self) :\n",
    "        for f in self.files:\n",
    "            f.flush()\n",
    "\n",
    "num = 0\n",
    "code =\"\";\n",
    "\n",
    "#This writes to a text file your highest correct question for loading next question and for where to load on refresh\n",
    "def correct():\n",
    "    printmd(\"**Correct**\", color=\"#32CD32\")\n",
    "    file = open(\"correct.txt\", \"w+\")\n",
    "    text = file.read()\n",
    "    if(text == \"\" or int(text)<num):\n",
    "        file.seek(0)\n",
    "        file.write(str(num))\n",
    "    file.close()\n",
    "    \n",
    "def incorrect(string):\n",
    "    printmd(string, color=\"red\")\n",
    "\n",
    "correct();\n",
    "\n",
    "#This is injected after your code when running marker to run asserts on your code\n",
    "#Mark\n",
    "from pythonMarker import *\n",
    "\n",
    "result = checkQuestion(num,code,locals())\n",
    "if(result == True):\n",
    "    correct()  \n",
    "else:\n",
    "    incorrect(result)"
   ]
  },
  {
   "cell_type": "markdown",
   "metadata": {},
   "source": [
    "# Welcome to an Introduction to Python\n",
    "\n",
    "<h2>Notebook basics</h2>\n",
    "This notebook goes through all the essentials of python and will let you test your work as you go\n",
    "<ul>\n",
    "    <li><b>Restart & Run-All; </b> Restarts notebook extension (fast-forward symbol on task bar)</li>\n",
    "    <li><b>Run Marker; </b> Runs and marks your cell to give you feedback (Run Marker button on task bar)</li>\n",
    "</ul>\n",
    "\n",
    "<h2>What you'll learn</h2>\n",
    "<ul>\n",
    "    <li>Basics of printing and varibles</li>\n",
    "    <li>Mathmatical operators</li>\n",
    "</ul>"
   ]
  },
  {
   "cell_type": "markdown",
   "metadata": {},
   "source": [
    "# Section 1: Basics\n",
    "In this section you'll cover the basics of python including printing, comments, variables & calculations"
   ]
  },
  {
   "cell_type": "code",
   "execution_count": null,
   "metadata": {},
   "outputs": [],
   "source": [
    "show answers"
   ]
  },
  {
   "cell_type": "markdown",
   "metadata": {},
   "source": [
    "<h2>Task 1</h2><p>Printing is an essential tool of any programming language because it allows us to see what's inside of our program whilst it's running. Without it finding out what the program has produced is impossible! <br>To do this we write a <b>command</b> (a line that tells the program to do an action) containing a keyword python understands. To output a word we use <b>'print()'</b> which is a python function (more about functions later) that will print out whatever is inside its brackets. <br>For example writing <b>print(\"abc\")</b> would print out abc. Also note that these quotes are very important to tell python that abc is a word and not code!<br><h4> Now try for yourself: Use the print() function to output 'Hello World'</h4>"
   ]
  },
  {
   "cell_type": "code",
   "execution_count": null,
   "metadata": {},
   "outputs": [],
   "source": []
  },
  {
   "cell_type": "markdown",
   "metadata": {},
   "source": [
    "<h2>Task 2</h2>The \"Hello world\" you put into the print function is known as a <b>string</b> in programming. A string is simply text inside quotes that the program can use (such as for printing). Strings are part of a larger family known as <b>variables</b>. Variables are simply named pieces of data such as numbers. Creating a variable is very useful if we want to reuse the data.<br>\n",
    "Declaring/creating a variable follows the format <b><i>name = value</i></b>. For example if we wanted to create a variable called 'name' with the value 'Bob' we would type; <b>name = \"Bob\"</b>. See how we're still using quotes to tell the program the Bob is a string.<br>\n",
    "<h4> Now try for yourself: create a variable called name with its value set to your name i.e. \"Bob\"</h4>\n",
    "\n"
   ]
  },
  {
   "cell_type": "code",
   "execution_count": null,
   "metadata": {},
   "outputs": [],
   "source": []
  },
  {
   "cell_type": "markdown",
   "metadata": {},
   "source": [
    "<h2>Task 3</h2>What's really important to programs is memory. Without saving data everything you create will be lost. Luckily for us variables always save their data (otherwise they would have no benefit). Because of this the variable you created called name still exists anywhere further down through this notebook. <br>\n",
    "<h4> Lets tests this: type print(name) in the cell below. You should see whatever you saved name as in the last task is now printed out here.</h4>"
   ]
  },
  {
   "cell_type": "code",
   "execution_count": null,
   "metadata": {},
   "outputs": [],
   "source": []
  },
  {
   "cell_type": "markdown",
   "metadata": {},
   "source": [
    "<h2>Task 4</h2>So now that we can see how to use variables let's create some that aren't strings. A whole number is called an <b> Integer</b> in programming and is another variable type. Once again it can be defined with 'name = value'. For example if saving the number 3 in a varaible called x we would type; <b>x = 3</b>. This time no quotes are used as this is only for strings.\n",
    "<h4> Now try for yourself: create a variable called x with its value set to 5. Then type print(x) on the line underneath</h4>"
   ]
  },
  {
   "cell_type": "code",
   "execution_count": null,
   "metadata": {},
   "outputs": [],
   "source": []
  },
  {
   "cell_type": "markdown",
   "metadata": {},
   "source": [
    "<h2>Task 5</h2>Before we go any further lets take a quick break to learn comments. A comment is a line in a program that is <u>not</u> read as code. Why would you need this you may ask. Well becuase as programs get more complicated it's important to make notes on what code you've made and what it does. I would reccommend making comments wherever you think you may need reminding about what a line does next time you come back to your code.<br>To write a single line comment we use a <b>#</b> symbol at the start of the line to tell python that this line should not be executed.\n",
    "<h4> Now try for yourself: Write a comment on a single line quickly listing what you've learn so far</h4>"
   ]
  },
  {
   "cell_type": "code",
   "execution_count": null,
   "metadata": {},
   "outputs": [],
   "source": []
  },
  {
   "cell_type": "markdown",
   "metadata": {},
   "source": [
    "<h2>Task 6</h2>One important skill (if not the most important) as a programmer is identifying and fixing errors. Errors are every programmers worst nightmare but thinking logically (and researching the problem) will ultimately lead you to the solution. Do not give up when you hit an error! Perserverance and practice will make you much better at fixing them.\n",
    "<h4> Using what you've learn so far identify the problems below and fix them</h4>"
   ]
  },
  {
   "cell_type": "code",
   "execution_count": 2,
   "metadata": {
    "scrolled": true
   },
   "outputs": [
    {
     "ename": "SyntaxError",
     "evalue": "EOL while scanning string literal (<ipython-input-2-9b5c9d50cc41>, line 1)",
     "output_type": "error",
     "traceback": [
      "\u001b[1;36m  File \u001b[1;32m\"<ipython-input-2-9b5c9d50cc41>\"\u001b[1;36m, line \u001b[1;32m1\u001b[0m\n\u001b[1;33m    name = Bob\"\u001b[0m\n\u001b[1;37m               ^\u001b[0m\n\u001b[1;31mSyntaxError\u001b[0m\u001b[1;31m:\u001b[0m EOL while scanning string literal\n"
     ]
    }
   ],
   "source": [
    "name = Bob\"\n",
    "pront(name)"
   ]
  },
  {
   "cell_type": "markdown",
   "metadata": {},
   "source": [
    "<h2>Task 7</h2>Going back to variables another important characteristic they have is that they can change (how they got their name). This means they can be completely overwritten or slightly modified depending on what we need. For example if we had a variable called x that was equal to 5, if we wanted to change it to 6 we could type <b>x = 6</b> to overwrite it or we could type <b>x = x + 1</b> which adds one to x (5+1=6)\n",
    "<h4> Now try for yourself: Set x to itself doubled (x\\*2) and then print it out. What is its value now? </h4>"
   ]
  },
  {
   "cell_type": "code",
   "execution_count": null,
   "metadata": {
    "scrolled": true
   },
   "outputs": [],
   "source": []
  }
 ],
 "metadata": {
  "kernelspec": {
   "display_name": "Python 3",
   "language": "python",
   "name": "python3"
  },
  "language_info": {
   "codemirror_mode": {
    "name": "ipython",
    "version": 3
   },
   "file_extension": ".py",
   "mimetype": "text/x-python",
   "name": "python",
   "nbconvert_exporter": "python",
   "pygments_lexer": "ipython3",
   "version": "3.6.5"
  }
 },
 "nbformat": 4,
 "nbformat_minor": 2
}
